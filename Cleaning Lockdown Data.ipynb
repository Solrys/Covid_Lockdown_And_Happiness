{
 "cells": [
  {
   "cell_type": "code",
   "execution_count": 9,
   "id": "excellent-suicide",
   "metadata": {},
   "outputs": [],
   "source": [
    "import pandas as pd\n"
   ]
  },
  {
   "cell_type": "code",
   "execution_count": 10,
   "id": "failing-subject",
   "metadata": {},
   "outputs": [
    {
     "data": {
      "text/html": [
       "<div>\n",
       "<style scoped>\n",
       "    .dataframe tbody tr th:only-of-type {\n",
       "        vertical-align: middle;\n",
       "    }\n",
       "\n",
       "    .dataframe tbody tr th {\n",
       "        vertical-align: top;\n",
       "    }\n",
       "\n",
       "    .dataframe thead th {\n",
       "        text-align: right;\n",
       "    }\n",
       "</style>\n",
       "<table border=\"1\" class=\"dataframe\">\n",
       "  <thead>\n",
       "    <tr style=\"text-align: right;\">\n",
       "      <th></th>\n",
       "      <th>Country/Region</th>\n",
       "      <th>Date</th>\n",
       "      <th>Type</th>\n",
       "      <th>Reference</th>\n",
       "    </tr>\n",
       "  </thead>\n",
       "  <tbody>\n",
       "    <tr>\n",
       "      <th>0</th>\n",
       "      <td>Mainland China</td>\n",
       "      <td>2020-01-23</td>\n",
       "      <td>Full</td>\n",
       "      <td>https://en.wikipedia.org/wiki/2019%E2%80%9320_...</td>\n",
       "    </tr>\n",
       "    <tr>\n",
       "      <th>1</th>\n",
       "      <td>Hong Kong</td>\n",
       "      <td>2020-03-23</td>\n",
       "      <td>Full</td>\n",
       "      <td>https://en.wikipedia.org/wiki/2020_coronavirus...</td>\n",
       "    </tr>\n",
       "    <tr>\n",
       "      <th>2</th>\n",
       "      <td>Macau</td>\n",
       "      <td>2020-01-26</td>\n",
       "      <td>Full</td>\n",
       "      <td>https://en.wikipedia.org/wiki/2020_coronavirus...</td>\n",
       "    </tr>\n",
       "    <tr>\n",
       "      <th>3</th>\n",
       "      <td>Taiwan</td>\n",
       "      <td>2020-02-02</td>\n",
       "      <td>Full</td>\n",
       "      <td>https://en.wikipedia.org/wiki/2020_coronavirus...</td>\n",
       "    </tr>\n",
       "    <tr>\n",
       "      <th>4</th>\n",
       "      <td>US</td>\n",
       "      <td>2020-03-23</td>\n",
       "      <td>Partial</td>\n",
       "      <td>https://en.wikipedia.org/wiki/2020_coronavirus...</td>\n",
       "    </tr>\n",
       "  </tbody>\n",
       "</table>\n",
       "</div>"
      ],
      "text/plain": [
       "   Country/Region        Date     Type  \\\n",
       "0  Mainland China  2020-01-23     Full   \n",
       "1       Hong Kong  2020-03-23     Full   \n",
       "2           Macau  2020-01-26     Full   \n",
       "3          Taiwan  2020-02-02     Full   \n",
       "4              US  2020-03-23  Partial   \n",
       "\n",
       "                                           Reference  \n",
       "0  https://en.wikipedia.org/wiki/2019%E2%80%9320_...  \n",
       "1  https://en.wikipedia.org/wiki/2020_coronavirus...  \n",
       "2  https://en.wikipedia.org/wiki/2020_coronavirus...  \n",
       "3  https://en.wikipedia.org/wiki/2020_coronavirus...  \n",
       "4  https://en.wikipedia.org/wiki/2020_coronavirus...  "
      ]
     },
     "execution_count": 10,
     "metadata": {},
     "output_type": "execute_result"
    }
   ],
   "source": [
    "lockdown_df = pd.read_csv(\"countryLockdowndates.csv\")\n",
    "lockdown_df.head()"
   ]
  },
  {
   "cell_type": "code",
   "execution_count": 12,
   "id": "emerging-acrobat",
   "metadata": {},
   "outputs": [
    {
     "data": {
      "text/html": [
       "<div>\n",
       "<style scoped>\n",
       "    .dataframe tbody tr th:only-of-type {\n",
       "        vertical-align: middle;\n",
       "    }\n",
       "\n",
       "    .dataframe tbody tr th {\n",
       "        vertical-align: top;\n",
       "    }\n",
       "\n",
       "    .dataframe thead th {\n",
       "        text-align: right;\n",
       "    }\n",
       "</style>\n",
       "<table border=\"1\" class=\"dataframe\">\n",
       "  <thead>\n",
       "    <tr style=\"text-align: right;\">\n",
       "      <th></th>\n",
       "      <th>Country/Region</th>\n",
       "      <th>Date</th>\n",
       "      <th>Type</th>\n",
       "    </tr>\n",
       "  </thead>\n",
       "  <tbody>\n",
       "    <tr>\n",
       "      <th>0</th>\n",
       "      <td>Mainland China</td>\n",
       "      <td>2020-01-23</td>\n",
       "      <td>Full</td>\n",
       "    </tr>\n",
       "    <tr>\n",
       "      <th>1</th>\n",
       "      <td>Hong Kong</td>\n",
       "      <td>2020-03-23</td>\n",
       "      <td>Full</td>\n",
       "    </tr>\n",
       "    <tr>\n",
       "      <th>2</th>\n",
       "      <td>Macau</td>\n",
       "      <td>2020-01-26</td>\n",
       "      <td>Full</td>\n",
       "    </tr>\n",
       "    <tr>\n",
       "      <th>3</th>\n",
       "      <td>Taiwan</td>\n",
       "      <td>2020-02-02</td>\n",
       "      <td>Full</td>\n",
       "    </tr>\n",
       "    <tr>\n",
       "      <th>4</th>\n",
       "      <td>US</td>\n",
       "      <td>2020-03-23</td>\n",
       "      <td>Partial</td>\n",
       "    </tr>\n",
       "  </tbody>\n",
       "</table>\n",
       "</div>"
      ],
      "text/plain": [
       "   Country/Region        Date     Type\n",
       "0  Mainland China  2020-01-23     Full\n",
       "1       Hong Kong  2020-03-23     Full\n",
       "2           Macau  2020-01-26     Full\n",
       "3          Taiwan  2020-02-02     Full\n",
       "4              US  2020-03-23  Partial"
      ]
     },
     "execution_count": 12,
     "metadata": {},
     "output_type": "execute_result"
    }
   ],
   "source": [
    "#Drop Reference Column\n",
    "new_lock_df = lockdown_df.drop([\"Reference\"], axis=1)\n",
    "new_lock_df.head()"
   ]
  },
  {
   "cell_type": "code",
   "execution_count": 14,
   "id": "arabic-moisture",
   "metadata": {},
   "outputs": [],
   "source": [
    "#Save New File\n",
    "output_file_path = \"new_lock_df.csv\"\n",
    "new_lock_df.to_csv(output_file_path, index=False)"
   ]
  },
  {
   "cell_type": "code",
   "execution_count": null,
   "id": "atmospheric-rider",
   "metadata": {},
   "outputs": [],
   "source": []
  }
 ],
 "metadata": {
  "kernelspec": {
   "display_name": "PythonData",
   "language": "python",
   "name": "pythondata"
  },
  "language_info": {
   "codemirror_mode": {
    "name": "ipython",
    "version": 3
   },
   "file_extension": ".py",
   "mimetype": "text/x-python",
   "name": "python",
   "nbconvert_exporter": "python",
   "pygments_lexer": "ipython3",
   "version": "3.7.9"
  }
 },
 "nbformat": 4,
 "nbformat_minor": 5
}
